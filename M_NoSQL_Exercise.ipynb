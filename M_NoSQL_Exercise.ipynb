{
  "nbformat": 4,
  "nbformat_minor": 0,
  "metadata": {
    "colab": {
      "provenance": [],
      "include_colab_link": true
    },
    "kernelspec": {
      "name": "python3",
      "display_name": "Python 3"
    },
    "language_info": {
      "name": "python"
    }
  },
  "cells": [
    {
      "cell_type": "markdown",
      "metadata": {
        "id": "view-in-github",
        "colab_type": "text"
      },
      "source": [
        "<a href=\"https://colab.research.google.com/github/Khuzamaalk/T5_BootCamp/blob/main/M_NoSQL_Exercise.ipynb\" target=\"_parent\"><img src=\"https://colab.research.google.com/assets/colab-badge.svg\" alt=\"Open In Colab\"/></a>"
      ]
    },
    {
      "cell_type": "code",
      "execution_count": null,
      "metadata": {
        "colab": {
          "base_uri": "https://localhost:8080/"
        },
        "id": "EkargMFVKFs7",
        "outputId": "59299684-382e-4761-ee56-73f54cfcec09"
      },
      "outputs": [
        {
          "output_type": "stream",
          "name": "stdout",
          "text": [
            "Collecting pymongo\n",
            "  Downloading pymongo-4.8.0-cp310-cp310-manylinux_2_17_x86_64.manylinux2014_x86_64.whl.metadata (22 kB)\n",
            "Collecting dnspython<3.0.0,>=1.16.0 (from pymongo)\n",
            "  Downloading dnspython-2.6.1-py3-none-any.whl.metadata (5.8 kB)\n",
            "Downloading pymongo-4.8.0-cp310-cp310-manylinux_2_17_x86_64.manylinux2014_x86_64.whl (1.2 MB)\n",
            "\u001b[2K   \u001b[90m━━━━━━━━━━━━━━━━━━━━━━━━━━━━━━━━━━━━━━━━\u001b[0m \u001b[32m1.2/1.2 MB\u001b[0m \u001b[31m26.9 MB/s\u001b[0m eta \u001b[36m0:00:00\u001b[0m\n",
            "\u001b[?25hDownloading dnspython-2.6.1-py3-none-any.whl (307 kB)\n",
            "\u001b[2K   \u001b[90m━━━━━━━━━━━━━━━━━━━━━━━━━━━━━━━━━━━━━━━━\u001b[0m \u001b[32m307.7/307.7 kB\u001b[0m \u001b[31m11.1 MB/s\u001b[0m eta \u001b[36m0:00:00\u001b[0m\n",
            "\u001b[?25hInstalling collected packages: dnspython, pymongo\n",
            "Successfully installed dnspython-2.6.1 pymongo-4.8.0\n"
          ]
        }
      ],
      "source": [
        "!pip install pymongo"
      ]
    },
    {
      "cell_type": "code",
      "source": [
        "import pymongo\n",
        "from pymongo import MongoClient"
      ],
      "metadata": {
        "id": "ZwwfyggALzFt"
      },
      "execution_count": null,
      "outputs": []
    },
    {
      "cell_type": "code",
      "source": [
        "client = MongoClient(\"####\")\n",
        "db = client['TEST00']\n",
        "traffic_collection = db['traffic_collection']"
      ],
      "metadata": {
        "id": "p3paKUJbL8Fc"
      },
      "execution_count": null,
      "outputs": []
    },
    {
      "cell_type": "code",
      "source": [
        "traffic_collection.insert_many([\n",
        "{'road': 'Highway A1', 'date': '2024-07-10', 'time': '07:30', 'traffic_volume': 1100},\n",
        "{'road': 'Highway A2', 'date': '2024-07-11', 'time': '08:30', 'traffic_volume': 900},\n",
        "{'road': 'Highway A1', 'date': '2024-07-11', 'time': '08:00', 'traffic_volume': 1200,\n",
        "'weather_condition': 'Clear', 'vehicle_type_breakdown': {'car': 800, 'truck': 300, 'motorcycle': 100}},\n",
        "{'road': 'Highway A3', 'date': '2024-07-12', 'time': '09:00', 'traffic_volume': 800},\n",
        "{'road': 'Highway A1', 'date': '2024-07-11', 'time': '10:00', 'traffic_volume': 1300}\n",
        "])"
      ],
      "metadata": {
        "colab": {
          "base_uri": "https://localhost:8080/"
        },
        "id": "ht4QvAWfMtv3",
        "outputId": "37f7cf8a-ec89-4fc8-ca6c-d5b31b624d70"
      },
      "execution_count": null,
      "outputs": [
        {
          "output_type": "execute_result",
          "data": {
            "text/plain": [
              "InsertManyResult([ObjectId('66afac47f48dd53ab669eba8'), ObjectId('66afac47f48dd53ab669eba9'), ObjectId('66afac47f48dd53ab669ebaa'), ObjectId('66afac47f48dd53ab669ebab'), ObjectId('66afac47f48dd53ab669ebac')], acknowledged=True)"
            ]
          },
          "metadata": {},
          "execution_count": 5
        }
      ]
    },
    {
      "cell_type": "code",
      "source": [
        "#Query\n",
        "results = traffic_collection.find({\n",
        "    \"traffic_volume\": {\n",
        "        \"$gte\": 1000,\n",
        "        \"$lte\": 1500\n",
        "    }\n",
        "})\n",
        "for result in results:\n",
        "    print(result.get('traffic_volume','Unknown'))\n",
        "\n",
        "    print(f'weather_condition:', result.get('weather_condition', 'Unknown'))\n",
        "    print(f'vehicle_type_breakdown:',result.get('vehicle_type_breakdown', 'Unknown'))\n",
        "    print(\"\\n---\\n\")\n"
      ],
      "metadata": {
        "colab": {
          "base_uri": "https://localhost:8080/"
        },
        "id": "43M567ikPEuF",
        "outputId": "edd55e07-f9c1-4c6e-9f22-6eba3936b553"
      },
      "execution_count": null,
      "outputs": [
        {
          "output_type": "stream",
          "name": "stdout",
          "text": [
            "1100\n",
            "weather_condition: Unknown\n",
            "vehicle_type_breakdown: Unknown\n",
            "\n",
            "---\n",
            "\n",
            "1200\n",
            "weather_condition: Clear\n",
            "vehicle_type_breakdown: {'car': 800, 'truck': 300, 'motorcycle': 100}\n",
            "\n",
            "---\n",
            "\n",
            "1300\n",
            "weather_condition: Unknown\n",
            "vehicle_type_breakdown: Unknown\n",
            "\n",
            "---\n",
            "\n"
          ]
        }
      ]
    },
    {
      "cell_type": "code",
      "source": [
        "#Update\n",
        "increment_query={\n",
        "    'road':'Highway A1',\n",
        "    'time': {'$gte': '08:00', '$lte': '10:00'},\n",
        "    'date': '2024-07-11'\n",
        "}\n",
        "\n",
        "\n",
        "traffic_collection.update_many(increment_query, {'$inc': {'traffic_volume': 200}})"
      ],
      "metadata": {
        "colab": {
          "base_uri": "https://localhost:8080/"
        },
        "id": "OqLjEgltUhOI",
        "outputId": "b74e0ba4-dc54-4b66-8240-4c3ce9519078"
      },
      "execution_count": null,
      "outputs": [
        {
          "output_type": "execute_result",
          "data": {
            "text/plain": [
              "UpdateResult({'n': 2, 'electionId': ObjectId('7fffffff0000000000000052'), 'opTime': {'ts': Timestamp(1722791590, 15), 't': 82}, 'nModified': 2, 'ok': 1.0, '$clusterTime': {'clusterTime': Timestamp(1722791590, 15), 'signature': {'hash': b'e\\xb3\\xcfr\\x86\\x91\\x98\\xcdkx\\x1e4\\xa3G\\x19\\x12\\xc1\\x00w\\xbd', 'keyId': 7343326106772045828}}, 'operationTime': Timestamp(1722791590, 15), 'updatedExisting': True}, acknowledged=True)"
            ]
          },
          "metadata": {},
          "execution_count": 15
        }
      ]
    },
    {
      "cell_type": "code",
      "source": [
        "traffic_collection.delete_many({'weather_codition':'Rainy'} )"
      ],
      "metadata": {
        "colab": {
          "base_uri": "https://localhost:8080/"
        },
        "id": "Dueje5TKYY0Q",
        "outputId": "1a0c6506-ebfb-481e-debf-95f51552c3f9"
      },
      "execution_count": null,
      "outputs": [
        {
          "output_type": "execute_result",
          "data": {
            "text/plain": [
              "DeleteResult({'n': 0, 'electionId': ObjectId('7fffffff0000000000000052'), 'opTime': {'ts': Timestamp(1722792208, 6), 't': 82}, 'ok': 1.0, '$clusterTime': {'clusterTime': Timestamp(1722792208, 6), 'signature': {'hash': b'Y\\xf7\\xfd\\xf8\\xf2\\x8e\\x07)\\xa5T3\\xf2\\xb26!\\xa5^\\xd5\\xfaN', 'keyId': 7343326106772045828}}, 'operationTime': Timestamp(1722792208, 6)}, acknowledged=True)"
            ]
          },
          "metadata": {},
          "execution_count": 16
        }
      ]
    },
    {
      "cell_type": "code",
      "source": [
        "traffic_collection.delete_many({ \"traffic_volume\": {\"$lt\": 500},\n",
        "    \"date\": {\"$lt\": \"2024-07-11\"}})"
      ],
      "metadata": {
        "colab": {
          "base_uri": "https://localhost:8080/"
        },
        "id": "cijWXAEfbEio",
        "outputId": "c01e1621-a280-427e-ccf9-f4d7628dc732"
      },
      "execution_count": null,
      "outputs": [
        {
          "output_type": "execute_result",
          "data": {
            "text/plain": [
              "DeleteResult({'n': 0, 'electionId': ObjectId('7fffffff0000000000000052'), 'opTime': {'ts': Timestamp(1722792311, 10), 't': 82}, 'ok': 1.0, '$clusterTime': {'clusterTime': Timestamp(1722792311, 10), 'signature': {'hash': b'\\xfd2\\x9b\\x93\\xceq\\xf1}\\xe3\\xcf|nYH\\xa2sNd\\xd7\\xe0', 'keyId': 7343326106772045828}}, 'operationTime': Timestamp(1722792311, 10)}, acknowledged=True)"
            ]
          },
          "metadata": {},
          "execution_count": 17
        }
      ]
    }
  ]
}